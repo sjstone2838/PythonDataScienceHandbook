{
 "cells": [
  {
   "cell_type": "code",
   "execution_count": 4,
   "metadata": {
    "collapsed": false
   },
   "outputs": [],
   "source": [
    "import numpy as np\n",
    "import pandas as pd\n",
    "import matplotlib.pyplot as plt\n",
    "%matplotlib inline\n",
    "plt.style.use('ggplot')\n",
    "import seaborn as sns\n",
    "\n",
    "from sklearn.cross_validation import train_test_split\n",
    "from sklearn.metrics import confusion_matrix\n",
    "from sklearn.metrics import accuracy_score"
   ]
  },
  {
   "cell_type": "code",
   "execution_count": 5,
   "metadata": {
    "collapsed": false
   },
   "outputs": [
    {
     "name": "stderr",
     "output_type": "stream",
     "text": [
      "/Users/samstone/venvs/pdsh/lib/python2.7/site-packages/IPython/core/interactiveshell.py:2717: DtypeWarning: Columns (36) have mixed types. Specify dtype option on import or set low_memory=False.\n",
      "  interactivity=interactivity, compiler=compiler, result=result)\n"
     ]
    },
    {
     "data": {
      "text/plain": [
       "(21494, 54)"
      ]
     },
     "execution_count": 5,
     "metadata": {},
     "output_type": "execute_result"
    }
   ],
   "source": [
    "csv = pd.read_csv('no_show_1_3.csv')\n",
    "raw = pd.DataFrame(csv)\n",
    "raw.head()\n",
    "raw.shape"
   ]
  },
  {
   "cell_type": "code",
   "execution_count": 6,
   "metadata": {
    "collapsed": false
   },
   "outputs": [
    {
     "data": {
      "text/plain": [
       "(21494, 54)"
      ]
     },
     "execution_count": 6,
     "metadata": {},
     "output_type": "execute_result"
    }
   ],
   "source": [
    "raw.shape"
   ]
  },
  {
   "cell_type": "code",
   "execution_count": 7,
   "metadata": {
    "collapsed": false
   },
   "outputs": [
    {
     "data": {
      "text/plain": [
       "user_id                                                                                       int64\n",
       "num_quiz_responses                                                                            int64\n",
       "time_before_quiz                                                                            float64\n",
       "system                                                                                        int64\n",
       "signed_up_with_facebook                                                                       int64\n",
       "created_at                                                                                    int64\n",
       "age                                                                                         float64\n",
       "hour_of_day_signed_up                                                                         int64\n",
       "referred_by_friend                                                                            int64\n",
       "phone_verified                                                                                int64\n",
       "onboarding_reminder_count                                                                   float64\n",
       "email_domain                                                                                 object\n",
       "time_to_pass_quiz                                                                           float64\n",
       "time_for_background_check_to_come_back                                                      float64\n",
       "time_to_schedule_onboarding                                                                 float64\n",
       "total_time_to_complete_onboarding                                                           float64\n",
       "bio_length                                                                                    int64\n",
       "languages_length                                                                              int64\n",
       "previous_jobs_length                                                                          int64\n",
       "employment_interest_length                                                                    int64\n",
       "home_latitude                                                                               float64\n",
       "home_longitude                                                                              float64\n",
       "biography                                                                                    object\n",
       "languages                                                                                    object\n",
       "recognized_language_count                                                                   float64\n",
       "English                                                                                      object\n",
       "Spanish                                                                                      object\n",
       "French                                                                                       object\n",
       "Mandarin                                                                                     object\n",
       "Tagalog                                                                                      object\n",
       "Arabic                                                                                       object\n",
       "Other                                                                                        object\n",
       "previous_jobs                                                                                object\n",
       "employment_interest                                                                          object\n",
       "city                                                                                         object\n",
       "address_state                                                                                object\n",
       "zip                                                                                          object\n",
       "interest_full_time_job                                                                       object\n",
       "avatar_present                                                                                 bool\n",
       "was_invited                                                                                    bool\n",
       "pq_times_taken                                                                              float64\n",
       "pq_what_is_the_most_important_work_value?                                                    object\n",
       "pq_what_is_more_important:_showing_up_early_or_staying_late?                                float64\n",
       "pq_true_or_false:_i_feel_comfortable_in_new_places                                           object\n",
       "pq_among_your_friends,_are_you_a_leader_or_a_follower?                                      float64\n",
       "pq_are_you_an_optimist?                                                                     float64\n",
       "pq_how_many_people_do_you_think_have_cheated_the_government_on_their_income_tax_returns?    float64\n",
       "pq_when_is_it_appropriate_to_encourage_great_work?                                          float64\n",
       "pq_do_you_believe_most_employers_take_advantage_of_the_people_who_work_for_them?            float64\n",
       "pq_true_or_false:_i_like_to_take_chances.                                                    object\n",
       "pq_how_many_of_the_people_you_know_do_you_consider_your_friends?                            float64\n",
       "pq_start_date_(utc)                                                                         float64\n",
       "pq_submit_date_(utc)                                                                        float64\n",
       "no_show_jobs_1_3                                                                               bool\n",
       "dtype: object"
      ]
     },
     "execution_count": 7,
     "metadata": {},
     "output_type": "execute_result"
    }
   ],
   "source": [
    "# drop all rows with any missing data\n",
    "# full = raw.dropna()\n",
    "full = raw\n",
    "full.dtypes"
   ]
  },
  {
   "cell_type": "code",
   "execution_count": 8,
   "metadata": {
    "collapsed": false
   },
   "outputs": [
    {
     "data": {
      "text/plain": [
       "(21494, 21)"
      ]
     },
     "execution_count": 8,
     "metadata": {},
     "output_type": "execute_result"
    }
   ],
   "source": [
    "X = pd.concat([\n",
    "    full['num_quiz_responses'],\n",
    "    full['time_before_quiz'],\n",
    "    full['system'],\n",
    "    full['signed_up_with_facebook'],\n",
    "    full['created_at'],\n",
    "    full['age'],\n",
    "    full['hour_of_day_signed_up'],\n",
    "    full['referred_by_friend'],\n",
    "    full['phone_verified'],\n",
    "    full['onboarding_reminder_count'],\n",
    "    full['time_to_pass_quiz'],\n",
    "    full['time_for_background_check_to_come_back'],\n",
    "    full['time_to_schedule_onboarding'],\n",
    "    full['total_time_to_complete_onboarding'],\n",
    "    full['bio_length'],\n",
    "    full['languages_length'],\n",
    "    full['previous_jobs_length'],\n",
    "    full['employment_interest_length'],\n",
    "    full['home_latitude'],\n",
    "    full['home_longitude'],\n",
    "    full['recognized_language_count']\n",
    "#     full['pq_times_taken'],\n",
    "#     full['pq_what_is_more_important:_showing_up_early_or_staying_late?'],\n",
    "#     full['pq_among_your_friends,_are_you_a_leader_or_a_follower?'],\n",
    "#     full['pq_are_you_an_optimist?'],\n",
    "#     full['pq_how_many_people_do_you_think_have_cheated_the_government_on_their_income_tax_returns?'],\n",
    "#     full['pq_when_is_it_appropriate_to_encourage_great_work?'],\n",
    "#     full['pq_do_you_believe_most_employers_take_advantage_of_the_people_who_work_for_them?'],\n",
    "#     full['pq_how_many_of_the_people_you_know_do_you_consider_your_friends?'],\n",
    "#     full['pq_submit_date_(utc)'],\n",
    "#     full['pq_start_date_(utc)']\n",
    "],axis=1)\n",
    "X.shape"
   ]
  },
  {
   "cell_type": "code",
   "execution_count": 9,
   "metadata": {
    "collapsed": false
   },
   "outputs": [
    {
     "data": {
      "text/plain": [
       "num_quiz_responses                        False\n",
       "time_before_quiz                           True\n",
       "system                                    False\n",
       "signed_up_with_facebook                   False\n",
       "created_at                                False\n",
       "age                                        True\n",
       "hour_of_day_signed_up                     False\n",
       "referred_by_friend                        False\n",
       "phone_verified                            False\n",
       "onboarding_reminder_count                  True\n",
       "time_to_pass_quiz                          True\n",
       "time_for_background_check_to_come_back     True\n",
       "time_to_schedule_onboarding                True\n",
       "total_time_to_complete_onboarding          True\n",
       "bio_length                                False\n",
       "languages_length                          False\n",
       "previous_jobs_length                      False\n",
       "employment_interest_length                False\n",
       "home_latitude                              True\n",
       "home_longitude                             True\n",
       "recognized_language_count                  True\n",
       "dtype: bool"
      ]
     },
     "execution_count": 9,
     "metadata": {},
     "output_type": "execute_result"
    }
   ],
   "source": [
    "X.isnull().any()"
   ]
  },
  {
   "cell_type": "code",
   "execution_count": 10,
   "metadata": {
    "collapsed": false
   },
   "outputs": [],
   "source": [
    "null_mask = dict(X.isnull().any())\n",
    "for col in null_mask:\n",
    "    if null_mask[col]:\n",
    "        X[col].fillna(X[col].mean(), inplace=True)"
   ]
  },
  {
   "cell_type": "code",
   "execution_count": 11,
   "metadata": {
    "collapsed": false
   },
   "outputs": [
    {
     "data": {
      "text/plain": [
       "num_quiz_responses                        False\n",
       "time_before_quiz                          False\n",
       "system                                    False\n",
       "signed_up_with_facebook                   False\n",
       "created_at                                False\n",
       "age                                       False\n",
       "hour_of_day_signed_up                     False\n",
       "referred_by_friend                        False\n",
       "phone_verified                            False\n",
       "onboarding_reminder_count                 False\n",
       "time_to_pass_quiz                         False\n",
       "time_for_background_check_to_come_back    False\n",
       "time_to_schedule_onboarding               False\n",
       "total_time_to_complete_onboarding         False\n",
       "bio_length                                False\n",
       "languages_length                          False\n",
       "previous_jobs_length                      False\n",
       "employment_interest_length                False\n",
       "home_latitude                             False\n",
       "home_longitude                            False\n",
       "recognized_language_count                 False\n",
       "dtype: bool"
      ]
     },
     "execution_count": 11,
     "metadata": {},
     "output_type": "execute_result"
    }
   ],
   "source": [
    "X.isnull().any()"
   ]
  },
  {
   "cell_type": "code",
   "execution_count": 12,
   "metadata": {
    "collapsed": false
   },
   "outputs": [
    {
     "name": "stdout",
     "output_type": "stream",
     "text": [
      "985 no_shows from 21494 records\n"
     ]
    }
   ],
   "source": [
    "y = full.ix[:,-1]\n",
    "print '{} no_shows from {} records'.format(\n",
    "    np.count_nonzero(y == True),\n",
    "    len(y)\n",
    ")"
   ]
  },
  {
   "cell_type": "code",
   "execution_count": 13,
   "metadata": {
    "collapsed": true
   },
   "outputs": [],
   "source": [
    "X1, X2, y1, y2 = train_test_split(X, y, random_state=0,\n",
    "                                  train_size=0.8)"
   ]
  },
  {
   "cell_type": "code",
   "execution_count": 14,
   "metadata": {
    "collapsed": false
   },
   "outputs": [
    {
     "name": "stdout",
     "output_type": "stream",
     "text": [
      "accuracy score: 0.952314491742\n"
     ]
    },
    {
     "data": {
      "image/png": "[encoded data removed]",
      "text/plain": [
       "<matplotlib.figure.Figure at 0x10c00b490>"
      ]
     },
     "metadata": {},
     "output_type": "display_data"
    }
   ],
   "source": [
    "from sklearn.naive_bayes import GaussianNB\n",
    "model=GaussianNB()\n",
    "model.fit(X1, y1)\n",
    "y2_model = model.predict(X2)\n",
    "\n",
    "print 'accuracy score: {}'.format(accuracy_score(y2, y2_model))\n",
    "\n",
    "mat = confusion_matrix(y2, y2_model)\n",
    "\n",
    "sns.heatmap(mat, square=True, annot=True, fmt='d', cbar=False)\n",
    "plt.xlabel('predicted value')\n",
    "plt.ylabel('true value');\n"
   ]
  },
  {
   "cell_type": "code",
   "execution_count": 15,
   "metadata": {
    "collapsed": false
   },
   "outputs": [
    {
     "name": "stdout",
     "output_type": "stream",
     "text": [
      "accuracy score: 0.952314491742\n"
     ]
    },
    {
     "data": {
      "image/png": "[encoded data removed]",
      "text/plain": [
       "<matplotlib.figure.Figure at 0x1120ce090>"
      ]
     },
     "metadata": {},
     "output_type": "display_data"
    }
   ],
   "source": [
    "from sklearn.linear_model import LogisticRegression\n",
    "model = LogisticRegression(fit_intercept=True)\n",
    "model.fit(X1, y1)\n",
    "y2_model = model.predict(X2)\n",
    "\n",
    "print 'accuracy score: {}'.format(accuracy_score(y2, y2_model))\n",
    "\n",
    "mat = confusion_matrix(y2, y2_model)\n",
    "\n",
    "sns.heatmap(mat, square=True, annot=True, fmt='d', cbar=False)\n",
    "plt.xlabel('predicted value')\n",
    "plt.ylabel('true value');"
   ]
  },
  {
   "cell_type": "code",
   "execution_count": 16,
   "metadata": {
    "collapsed": true
   },
   "outputs": [],
   "source": [
    "from sklearn.neighbors import KNeighborsClassifier"
   ]
  },
  {
   "cell_type": "code",
   "execution_count": null,
   "metadata": {
    "collapsed": false
   },
   "outputs": [
    {
     "name": "stdout",
     "output_type": "stream",
     "text": [
      "accuracy score: 0.907420330309\n"
     ]
    },
    {
     "data": {
      "image/png": "[encoded data removed]",
      "text/plain": [
       "<matplotlib.figure.Figure at 0x113eaee90>"
      ]
     },
     "metadata": {},
     "output_type": "display_data"
    }
   ],
   "source": [
    "model = KNeighborsClassifier(n_neighbors=1)\n",
    "model.fit(X1, y1)\n",
    "y2_model = model.predict(X2)\n",
    "\n",
    "print 'accuracy score: {}'.format(accuracy_score(y2, y2_model))\n",
    "\n",
    "mat = confusion_matrix(y2, y2_model)\n",
    "\n",
    "sns.heatmap(mat, square=True, annot=True, fmt='d', cbar=False)\n",
    "plt.xlabel('predicted value')\n",
    "plt.ylabel('true value');"
   ]
  },
  {
   "cell_type": "code",
   "execution_count": null,
   "metadata": {
    "collapsed": false
   },
   "outputs": [
    {
     "name": "stderr",
     "output_type": "stream",
     "text": [
      "/Users/samstone/venvs/pdsh/lib/python2.7/site-packages/scipy/linalg/basic.py:884: RuntimeWarning: internal gelsd driver lwork query error, required iwork dimension not returned. This is likely the result of LAPACK bug 0038, fixed in LAPACK 3.2.2 (released July 21, 2010). Falling back to 'gelss' driver.\n",
      "  warnings.warn(mesg, RuntimeWarning)\n"
     ]
    }
   ],
   "source": [
    "from sklearn.preprocessing import PolynomialFeatures\n",
    "from sklearn.linear_model import LinearRegression\n",
    "from sklearn.pipeline import make_pipeline\n",
    "\n",
    "def PolynomialRegression(degree=2, **kwargs):\n",
    "    return make_pipeline(PolynomialFeatures(degree),\n",
    "                         LinearRegression(**kwargs))\n",
    "\n",
    "from sklearn.grid_search import GridSearchCV\n",
    "\n",
    "param_grid = {'polynomialfeatures__degree': np.arange(10),\n",
    "              'linearregression__fit_intercept': [True, False],\n",
    "              'linearregression__normalize': [True, False]}\n",
    "\n",
    "grid = GridSearchCV(PolynomialRegression(), param_grid, cv=7)\n",
    "\n",
    "grid.fit(X, y)\n",
    "\n",
    "model.fit(X1, y1)\n",
    "\n",
    "mat = confusion_matrix(y, y_model)\n",
    "\n",
    "sns.heatmap(mat, square=True, annot=True, fmt='d', cbar=False)\n",
    "plt.xlabel('predicted value')\n",
    "plt.ylabel('true value');"
   ]
  },
  {
   "cell_type": "code",
   "execution_count": null,
   "metadata": {
    "collapsed": false
   },
   "outputs": [],
   "source": [
    "from sklearn.cross_validation import cross_val_score\n",
    "cross_val_score(model, X, y, cv=5)"
   ]
  }
 ],
 "metadata": {
  "kernelspec": {
   "display_name": "Python 2",
   "language": "python",
   "name": "python2"
  },
  "language_info": {
   "codemirror_mode": {
    "name": "ipython",
    "version": 2
   },
   "file_extension": ".py",
   "mimetype": "text/x-python",
   "name": "python",
   "nbconvert_exporter": "python",
   "pygments_lexer": "ipython2",
   "version": "2.7.10"
  }
 },
 "nbformat": 4,
 "nbformat_minor": 2
}
